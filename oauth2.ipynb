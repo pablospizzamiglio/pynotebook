{
 "metadata": {
  "language_info": {
   "codemirror_mode": {
    "name": "ipython",
    "version": 3
   },
   "file_extension": ".py",
   "mimetype": "text/x-python",
   "name": "python",
   "nbconvert_exporter": "python",
   "pygments_lexer": "ipython3",
   "version": "3.8.4-final"
  },
  "orig_nbformat": 2,
  "kernelspec": {
   "name": "python_defaultSpec_1594971544866",
   "display_name": "Python 3.8.4 64-bit ('venv': venv)"
  }
 },
 "nbformat": 4,
 "nbformat_minor": 2,
 "cells": [
  {
   "cell_type": "markdown",
   "metadata": {},
   "source": [
    "# OAuth2 Web Application Flow Example\n",
    "\n",
    "A short example on how to communicate with a protected resource using the OAuth 2 flow for web applications."
   ]
  },
  {
   "cell_type": "markdown",
   "metadata": {},
   "source": [
    "## Chosen Library\n",
    "\n",
    "[Requests-Oauthlib](https://requests-oauthlib.readthedocs.io/en/latest/) is the chosen library for this example. It makes use of [Requests](https://requests.readthedocs.io/en/master/) and [OAuthLib](https://oauthlib.readthedocs.io/en/latest/). To include it in your project just add the following import:"
   ]
  },
  {
   "cell_type": "code",
   "execution_count": null,
   "metadata": {},
   "outputs": [],
   "source": [
    "from requests_oauthlib import OAuth2Session"
   ]
  },
  {
   "cell_type": "markdown",
   "metadata": {},
   "source": [
    "## Initial Configuration"
   ]
  },
  {
   "cell_type": "code",
   "execution_count": null,
   "metadata": {},
   "outputs": [],
   "source": [
    "import os\n",
    "import pprint\n",
    "\n",
    "# Disable TLS to use a plain HTTP callback\n",
    "os.environ[\"OAUTHLIB_INSECURE_TRANSPORT\"] = \"1\"\n",
    "\n",
    "printer = pprint.PrettyPrinter(indent=2)\n",
    "\n",
    "# The session is used as a simple DB for this example\n",
    "session = {}\n",
    "\n",
    "# Credentials obtained from registering a new application\n",
    "client_id = \"<the id obtained from google>.apps.googleusercontent.com\"\n",
    "client_secret = \"<the secret obtained from google>\"\n",
    "redirect_uri = \"https://your.registered/callback\"\n",
    "\n",
    "# OAuth endpoints obtained from the Google API documentation\n",
    "authorization_base_url = \"https://accounts.google.com/o/oauth2/v2/auth\"\n",
    "token_url = \"https://www.googleapis.com/oauth2/v4/token\"\n",
    "refresh_url = token_url # True for Google but not all providers\n",
    "# Scopes needed to query the chosen protected resource\n",
    "scope = [\n",
    "    \"openid\",\n",
    "    # User API\n",
    "    # \"https://www.googleapis.com/auth/userinfo.email\",\n",
    "    # \"https://www.googleapis.com/auth/userinfo.profile\",\n",
    "    # Directory API\n",
    "    # \"https://www.googleapis.com/auth/admin.directory.group.member.readonly\",\n",
    "    # \"https://www.googleapis.com/auth/admin.directory.group\",\n",
    "    # \"https://www.googleapis.com/auth/admin.directory.user\",\n",
    "    # Reports API\n",
    "    \"https://www.googleapis.com/auth/admin.reports.audit.readonly\",\n",
    "    \"https://www.googleapis.com/auth/admin.reports.usage.readonly\",\n",
    "]"
   ]
  },
  {
   "cell_type": "markdown",
   "metadata": {},
   "source": [
    "## Authorization\n",
    "\n",
    "The flow starts by hitting an endpoint defined for this purpose in your back-end service. This example will emulate that by doing all steps manually."
   ]
  },
  {
   "cell_type": "code",
   "execution_count": null,
   "metadata": {
    "tags": []
   },
   "outputs": [],
   "source": [
    "# Session initialization\n",
    "provider = OAuth2Session(client_id, scope=scope, redirect_uri=redirect_uri)\n",
    "\n",
    "# Redirect user to Google for authorization\n",
    "authorization_url, state = provider.authorization_url(\n",
    "    authorization_base_url,\n",
    "    # offline for refresh token\n",
    "    # force to always make user click authorize\n",
    "    access_type=\"offline\",\n",
    "    prompt=\"consent\",\n",
    ")\n",
    "\n",
    "# State is used to prevent CSRF, keep this for later\n",
    "session[\"oauth_state\"] = state\n",
    "\n",
    "print(f\"Please go here and authorize {authorization_url}\")"
   ]
  },
  {
   "cell_type": "markdown",
   "metadata": {},
   "source": [
    "## Callback Simulation\n",
    "\n",
    "Done when the provider redirects the user the `redirect_url` defined previously. This URL should be configured as an authorized URI in your chosen provider."
   ]
  },
  {
   "cell_type": "markdown",
   "metadata": {},
   "source": [
    "### Redirect URL containing the authorization code"
   ]
  },
  {
   "cell_type": "code",
   "execution_count": null,
   "metadata": {},
   "outputs": [],
   "source": [
    "# Get the authorization verifier code from the callback url\n",
    "authorization_response = input(\"Paste the full redirect URL here: \")"
   ]
  },
  {
   "cell_type": "markdown",
   "metadata": {},
   "source": [
    "### Retrieve token with the code from the authorization URL"
   ]
  },
  {
   "cell_type": "code",
   "execution_count": null,
   "metadata": {
    "tags": []
   },
   "outputs": [],
   "source": [
    "provider = OAuth2Session(\n",
    "    client_id, \n",
    "    redirect_uri=redirect_uri,\n",
    "    state=session[\"oauth_state\"],\n",
    ")\n",
    "\n",
    "# Fetch the access token\n",
    "token = provider.fetch_token(\n",
    "    token_url, \n",
    "    authorization_response=authorization_response,\n",
    "    # Google specific extra parameter used for client authentication\n",
    "    client_secret=client_secret,\n",
    ")\n",
    "\n",
    "# Store the token for later use\n",
    "session[\"oauth_token\"] = token\n",
    "\n",
    "printer.pprint(token)"
   ]
  },
  {
   "cell_type": "markdown",
   "metadata": {},
   "source": [
    "## Fetching a Protected Resource\n",
    "\n",
    "Access a protected resource using the OAuth 2 token from the previous step."
   ]
  },
  {
   "cell_type": "code",
   "execution_count": null,
   "metadata": {
    "tags": []
   },
   "outputs": [],
   "source": [
    "from datetime import datetime, timedelta\n",
    "from time import time\n",
    "\n",
    "token = session[\"oauth_token\"]\n",
    "\n",
    "# Enable this to test the automatic access token refresh feature.\n",
    "# We force an expiration by setting expired at in the past.\n",
    "# This will trigger an automatic refresh next time we interact with the provider.\n",
    "# token[\"expires_at\"] = time() - 86400 # 24 hours\n",
    "\n",
    "extra = {\n",
    "    \"client_id\": client_id,\n",
    "    \"client_secret\": client_secret,\n",
    "}\n",
    "\n",
    "def token_updater(token):\n",
    "        session[\"oauth_token\"].update(token)\n",
    "\n",
    "provider = OAuth2Session(\n",
    "    client_id,\n",
    "    token=token,\n",
    "    auto_refresh_kwargs=extra,\n",
    "    auto_refresh_url=refresh_url,\n",
    "    token_updater=token_updater\n",
    ")\n",
    "\n",
    "# With a super admin account\n",
    "# https://developers.google.com/admin-sdk/reports/v1/appendix/usage/customer/accounts\n",
    "# https://developers.google.com/admin-sdk/reports/v1/guides/manage-usage-customers\n",
    "parameters = \",\".join(\n",
    "    [\n",
    "        \"accounts:apps_total_licenses\",\n",
    "        \"accounts:apps_used_licenses\",\n",
    "        \"accounts:gsuite_basic_total_licenses\",\n",
    "        \"accounts:gsuite_basic_used_licenses\",\n",
    "        \"accounts:gsuite_enterprise_total_licenses\",\n",
    "        \"accounts:gsuite_enterprise_used_licenses\",\n",
    "        \"accounts:gsuite_unlimited_total_licenses\",\n",
    "        \"accounts:gsuite_unlimited_used_licenses\",\n",
    "        \"accounts:total_quota_in_mb\",\n",
    "        \"accounts:used_quota_in_mb\",\n",
    "        \"accounts:team_drive_used_quota_in_mb\",\n",
    "        \"accounts:num_users\",\n",
    "        \"accounts:num_locked_users\",\n",
    "        \"accounts:num_suspended_users\",\n",
    "        \"accounts:num_disabled_accounts\",\n",
    "        \"accounts:num_users_2sv_enforced\",\n",
    "        \"accounts:num_users_2sv_enrolled\",\n",
    "        \"accounts:num_users_2sv_enrolled_and_enforced\",\n",
    "        \"accounts:num_users_2sv_not_enforced\",\n",
    "        \"accounts:num_users_2sv_not_enrolled\",\n",
    "        \"accounts:num_users_2sv_not_enrolled_but_enforced\",\n",
    "        \"accounts:num_7day_logins\",\n",
    "        \"accounts:num_30day_logins\",\n",
    "    ]\n",
    ")\n",
    "# Data for Reports API lags behind up to a maximum of three days and a minimum of one \n",
    "# but there's no way to know if data is there unless you call the API\n",
    "n_days_ago = datetime.today() - timedelta(days=3)\n",
    "n_days_ago_str = n_days_ago.strftime(\"%Y-%m-%d\")\n",
    "r = provider.get(\n",
    "    f\"https://www.googleapis.com/admin/reports/v1/usage/dates/{n_days_ago_str}?parameters={parameters}\",\n",
    ").json()\n",
    "\n",
    "printer.pprint(r)\n",
    "print()\n",
    "printer.pprint(token)\n"
   ]
  }
 ]
}